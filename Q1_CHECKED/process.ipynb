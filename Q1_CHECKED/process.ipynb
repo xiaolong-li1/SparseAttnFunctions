{
 "cells": [
  {
   "cell_type": "code",
   "execution_count": 1,
   "metadata": {},
   "outputs": [
    {
     "name": "stdout",
     "output_type": "stream",
     "text": [
      "['c (1).mp4', 'c (10).mp4', 'c (11).mp4', 'c (12).mp4', 'c (13).mp4', 'c (2).mp4', 'c (3).mp4', 'c (4).mp4', 'c (5).mp4', 'c (6).mp4', 'c (7).mp4', 'c (8).mp4', 'c (9).mp4'] ['b (1).mp4', 'b (10).mp4', 'b (11).mp4', 'b (12).mp4', 'b (13).mp4', 'b (2).mp4', 'b (3).mp4', 'b (4).mp4', 'b (5).mp4', 'b (6).mp4', 'b (7).mp4', 'b (8).mp4', 'b (9).mp4']\n",
      "盲盒测试设置完成！重命名后的文件保存在 ./clear_show\\../blind_test 文件夹中\n",
      "原始信息已记录在 original_info.txt 文件中\n"
     ]
    }
   ],
   "source": [
    "import os\n",
    "import random\n",
    "import shutil\n",
    "\n",
    "def setup_blind_test(folder_path):\n",
    "    # 获取所有a和b视频文件\n",
    "    a_files = [f for f in os.listdir(folder_path) if f.startswith('c (')]\n",
    "    b_files = [f for f in os.listdir(folder_path) if f.startswith('b (')]\n",
    "    print(a_files, b_files) \n",
    "    # 确保a和b文件数量相同且按顺序对应\n",
    "    a_files.sort()\n",
    "    b_files.sort()\n",
    "    \n",
    "    if len(a_files) != len(b_files):\n",
    "        print(\"错误：a和b文件数量不匹配\")\n",
    "        return\n",
    "    \n",
    "    # 创建用于存储原始信息的字典\n",
    "    original_info = {}\n",
    "    \n",
    "    # 创建临时文件夹用于存储重命名后的文件\n",
    "    temp_folder = os.path.join(folder_path, \"../blind_test\")\n",
    "    if not os.path.exists(temp_folder):\n",
    "        os.makedirs(temp_folder)\n",
    "    \n",
    "    # 为每组a和b生成随机的新名称\n",
    "    for i in range(len(a_files)):\n",
    "        # 生成随机前缀\n",
    "        prefix = f\"video_{i+1:02d}\"\n",
    "        \n",
    "        # 随机决定a和b的新名称\n",
    "        if random.choice([True, False]):\n",
    "            new_name_a = f\"{prefix}_X.mp4\"\n",
    "            new_name_b = f\"{prefix}_Y.mp4\"\n",
    "            original_info[new_name_a] = f\"sparseattn (原始: {a_files[i]})\"\n",
    "            original_info[new_name_b] = f\"标准attn (原始: {b_files[i]})\"\n",
    "        else:\n",
    "            new_name_a = f\"{prefix}_Y.mp4\"\n",
    "            new_name_b = f\"{prefix}_X.mp4\"\n",
    "            original_info[new_name_a] = f\"sparseattn (原始: {a_files[i]})\"\n",
    "            original_info[new_name_b] = f\"标准attn (原始: {b_files[i]})\"\n",
    "        \n",
    "        # 复制文件到临时文件夹并重命名\n",
    "        shutil.copy2(os.path.join(folder_path, a_files[i]), os.path.join(temp_folder, new_name_a))\n",
    "        shutil.copy2(os.path.join(folder_path, b_files[i]), os.path.join(temp_folder, new_name_b))\n",
    "    \n",
    "    # 将原始信息写入记事本文件\n",
    "    with open(os.path.join(folder_path, \"original_info.txt\"), \"w\") as f:\n",
    "        for new_name, info in original_info.items():\n",
    "            f.write(f\"{new_name}: {info}\\n\")\n",
    "    \n",
    "    print(f\"盲盒测试设置完成！重命名后的文件保存在 {temp_folder} 文件夹中\")\n",
    "    print(\"原始信息已记录在 original_info.txt 文件中\")\n",
    "\n",
    "# 使用示例 - 替换为你的文件夹路径\n",
    "folder_path = \"./clear_show\"  # 当前目录，或者替换为你的视频文件夹路径\n",
    "setup_blind_test(folder_path)"
   ]
  }
 ],
 "metadata": {
  "kernelspec": {
   "display_name": "math",
   "language": "python",
   "name": "python3"
  },
  "language_info": {
   "codemirror_mode": {
    "name": "ipython",
    "version": 3
   },
   "file_extension": ".py",
   "mimetype": "text/x-python",
   "name": "python",
   "nbconvert_exporter": "python",
   "pygments_lexer": "ipython3",
   "version": "3.10.12"
  }
 },
 "nbformat": 4,
 "nbformat_minor": 2
}
